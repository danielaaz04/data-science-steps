{
 "cells": [
  {
   "cell_type": "markdown",
   "metadata": {},
   "source": [
    "# Predicting energy consumption"
   ]
  },
  {
   "cell_type": "markdown",
   "metadata": {},
   "source": [
    "## Defining the Problem"
   ]
  },
  {
   "cell_type": "markdown",
   "metadata": {},
   "source": [
    "Climate change is a globally relevant and urgent issue heavily impacted by energy policy and infrastructure.\n",
    "\n",
    "According to a report issued by the International Energy Agency, the lifecycle of buildings from construction to demolition were responsible for 37% of global energy-related and process-related CO2 emissions in 2020.  Yet it is possible to drastically reduce the energy consumption of buildings by a combination of easy-to-implement fixes and state-of-the-art strategies. \n",
    "\n",
    "To do so, we need to analyze the differences in building energy consumption and create models to predict building energy consumption.  Accurate predictions of energy consumption can help policymakers target retrofitting efforts to maximize emissions reductions.\n"
   ]
  },
  {
   "cell_type": "markdown",
   "metadata": {},
   "source": [
    "## Importing libraries we will need"
   ]
  },
  {
   "cell_type": "code",
   "execution_count": 168,
   "metadata": {
    "_cell_guid": "b1076dfc-b9ad-4769-8c92-a6c4dae69d19",
    "_uuid": "8f2839f25d086af736a60e9eeb907d3b93b6e0e5",
    "execution": {
     "iopub.execute_input": "2022-04-27T02:14:00.097686Z",
     "iopub.status.busy": "2022-04-27T02:14:00.096955Z",
     "iopub.status.idle": "2022-04-27T02:14:01.467641Z",
     "shell.execute_reply": "2022-04-27T02:14:01.466569Z",
     "shell.execute_reply.started": "2022-04-27T02:14:00.097579Z"
    }
   },
   "outputs": [],
   "source": [
    "import numpy as np # linear algebra\n",
    "import pandas as pd # data processing\n",
    "import time\n",
    "\n",
    "#Data Visualization and Exploratory Data Analysis\n",
    "import seaborn as sns \n",
    "import matplotlib.pyplot as plt\n",
    "\n",
    "#Feature Engineering\n",
    "from sklearn.preprocessing import MinMaxScaler\n",
    "\n",
    "#Modeling\n",
    "from sklearn.linear_model import LinearRegression\n",
    "from sklearn.model_selection import train_test_split\n",
    "\n",
    "#Metrics\n",
    "from sklearn.metrics import mean_squared_error\n",
    "from math import sqrt"
   ]
  },
  {
   "cell_type": "markdown",
   "metadata": {},
   "source": [
    "##  Loading the data"
   ]
  },
  {
   "cell_type": "code",
   "execution_count": 169,
   "metadata": {
    "execution": {
     "iopub.execute_input": "2022-04-27T02:14:01.470099Z",
     "iopub.status.busy": "2022-04-27T02:14:01.469764Z",
     "iopub.status.idle": "2022-04-27T02:14:02.466801Z",
     "shell.execute_reply": "2022-04-27T02:14:02.465785Z",
     "shell.execute_reply.started": "2022-04-27T02:14:01.470056Z"
    }
   },
   "outputs": [],
   "source": [
    "#Defining data and test paths\n",
    "\n",
    "data_path= ('data/train.csv')\n",
    "test_path= ('data/test.csv')"
   ]
  },
  {
   "cell_type": "code",
   "execution_count": 170,
   "metadata": {},
   "outputs": [
    {
     "name": "stdout",
     "output_type": "stream",
     "text": [
      "The shape of the data is:(75757, 64)\n",
      "The shape of the test data is:(9705, 63)\n"
     ]
    }
   ],
   "source": [
    "#Loading the data and test data in 2 different variables\n",
    "\n",
    "data = pd.read_csv(data_path)\n",
    "print(\"The shape of the data is:\" + str(data.shape))\n",
    "\n",
    "test_data = pd.read_csv(test_path)\n",
    "print(\"The shape of the test data is:\" + str(test_data.shape))"
   ]
  },
  {
   "cell_type": "code",
   "execution_count": 171,
   "metadata": {
    "execution": {
     "iopub.execute_input": "2022-04-27T02:14:02.588040Z",
     "iopub.status.busy": "2022-04-27T02:14:02.587153Z",
     "iopub.status.idle": "2022-04-27T02:14:02.627709Z",
     "shell.execute_reply": "2022-04-27T02:14:02.626915Z",
     "shell.execute_reply.started": "2022-04-27T02:14:02.587991Z"
    }
   },
   "outputs": [
    {
     "data": {
      "text/html": [
       "<div>\n",
       "<style scoped>\n",
       "    .dataframe tbody tr th:only-of-type {\n",
       "        vertical-align: middle;\n",
       "    }\n",
       "\n",
       "    .dataframe tbody tr th {\n",
       "        vertical-align: top;\n",
       "    }\n",
       "\n",
       "    .dataframe thead th {\n",
       "        text-align: right;\n",
       "    }\n",
       "</style>\n",
       "<table border=\"1\" class=\"dataframe\">\n",
       "  <thead>\n",
       "    <tr style=\"text-align: right;\">\n",
       "      <th></th>\n",
       "      <th>Year_Factor</th>\n",
       "      <th>State_Factor</th>\n",
       "      <th>building_class</th>\n",
       "      <th>facility_type</th>\n",
       "      <th>floor_area</th>\n",
       "      <th>year_built</th>\n",
       "      <th>energy_star_rating</th>\n",
       "      <th>ELEVATION</th>\n",
       "      <th>january_min_temp</th>\n",
       "      <th>january_avg_temp</th>\n",
       "      <th>...</th>\n",
       "      <th>days_above_80F</th>\n",
       "      <th>days_above_90F</th>\n",
       "      <th>days_above_100F</th>\n",
       "      <th>days_above_110F</th>\n",
       "      <th>direction_max_wind_speed</th>\n",
       "      <th>direction_peak_wind_speed</th>\n",
       "      <th>max_wind_speed</th>\n",
       "      <th>days_with_fog</th>\n",
       "      <th>site_eui</th>\n",
       "      <th>id</th>\n",
       "    </tr>\n",
       "  </thead>\n",
       "  <tbody>\n",
       "    <tr>\n",
       "      <th>0</th>\n",
       "      <td>1</td>\n",
       "      <td>State_1</td>\n",
       "      <td>Commercial</td>\n",
       "      <td>Grocery_store_or_food_market</td>\n",
       "      <td>61242.0</td>\n",
       "      <td>1942.0</td>\n",
       "      <td>11.0</td>\n",
       "      <td>2.4</td>\n",
       "      <td>36</td>\n",
       "      <td>50.5</td>\n",
       "      <td>...</td>\n",
       "      <td>14</td>\n",
       "      <td>0</td>\n",
       "      <td>0</td>\n",
       "      <td>0</td>\n",
       "      <td>1.0</td>\n",
       "      <td>1.0</td>\n",
       "      <td>1.0</td>\n",
       "      <td>NaN</td>\n",
       "      <td>248.682615</td>\n",
       "      <td>0</td>\n",
       "    </tr>\n",
       "    <tr>\n",
       "      <th>1</th>\n",
       "      <td>1</td>\n",
       "      <td>State_1</td>\n",
       "      <td>Commercial</td>\n",
       "      <td>Warehouse_Distribution_or_Shipping_center</td>\n",
       "      <td>274000.0</td>\n",
       "      <td>1955.0</td>\n",
       "      <td>45.0</td>\n",
       "      <td>1.8</td>\n",
       "      <td>36</td>\n",
       "      <td>50.5</td>\n",
       "      <td>...</td>\n",
       "      <td>14</td>\n",
       "      <td>0</td>\n",
       "      <td>0</td>\n",
       "      <td>0</td>\n",
       "      <td>1.0</td>\n",
       "      <td>NaN</td>\n",
       "      <td>1.0</td>\n",
       "      <td>12.0</td>\n",
       "      <td>26.500150</td>\n",
       "      <td>1</td>\n",
       "    </tr>\n",
       "    <tr>\n",
       "      <th>2</th>\n",
       "      <td>1</td>\n",
       "      <td>State_1</td>\n",
       "      <td>Commercial</td>\n",
       "      <td>Retail_Enclosed_mall</td>\n",
       "      <td>280025.0</td>\n",
       "      <td>1951.0</td>\n",
       "      <td>97.0</td>\n",
       "      <td>1.8</td>\n",
       "      <td>36</td>\n",
       "      <td>50.5</td>\n",
       "      <td>...</td>\n",
       "      <td>14</td>\n",
       "      <td>0</td>\n",
       "      <td>0</td>\n",
       "      <td>0</td>\n",
       "      <td>1.0</td>\n",
       "      <td>NaN</td>\n",
       "      <td>1.0</td>\n",
       "      <td>12.0</td>\n",
       "      <td>24.693619</td>\n",
       "      <td>2</td>\n",
       "    </tr>\n",
       "    <tr>\n",
       "      <th>3</th>\n",
       "      <td>1</td>\n",
       "      <td>State_1</td>\n",
       "      <td>Commercial</td>\n",
       "      <td>Education_Other_classroom</td>\n",
       "      <td>55325.0</td>\n",
       "      <td>1980.0</td>\n",
       "      <td>46.0</td>\n",
       "      <td>1.8</td>\n",
       "      <td>36</td>\n",
       "      <td>50.5</td>\n",
       "      <td>...</td>\n",
       "      <td>14</td>\n",
       "      <td>0</td>\n",
       "      <td>0</td>\n",
       "      <td>0</td>\n",
       "      <td>1.0</td>\n",
       "      <td>NaN</td>\n",
       "      <td>1.0</td>\n",
       "      <td>12.0</td>\n",
       "      <td>48.406926</td>\n",
       "      <td>3</td>\n",
       "    </tr>\n",
       "    <tr>\n",
       "      <th>4</th>\n",
       "      <td>1</td>\n",
       "      <td>State_1</td>\n",
       "      <td>Commercial</td>\n",
       "      <td>Warehouse_Nonrefrigerated</td>\n",
       "      <td>66000.0</td>\n",
       "      <td>1985.0</td>\n",
       "      <td>100.0</td>\n",
       "      <td>2.4</td>\n",
       "      <td>36</td>\n",
       "      <td>50.5</td>\n",
       "      <td>...</td>\n",
       "      <td>14</td>\n",
       "      <td>0</td>\n",
       "      <td>0</td>\n",
       "      <td>0</td>\n",
       "      <td>1.0</td>\n",
       "      <td>1.0</td>\n",
       "      <td>1.0</td>\n",
       "      <td>NaN</td>\n",
       "      <td>3.899395</td>\n",
       "      <td>4</td>\n",
       "    </tr>\n",
       "  </tbody>\n",
       "</table>\n",
       "<p>5 rows × 64 columns</p>\n",
       "</div>"
      ],
      "text/plain": [
       "   Year_Factor State_Factor building_class  \\\n",
       "0            1      State_1     Commercial   \n",
       "1            1      State_1     Commercial   \n",
       "2            1      State_1     Commercial   \n",
       "3            1      State_1     Commercial   \n",
       "4            1      State_1     Commercial   \n",
       "\n",
       "                               facility_type  floor_area  year_built  \\\n",
       "0               Grocery_store_or_food_market     61242.0      1942.0   \n",
       "1  Warehouse_Distribution_or_Shipping_center    274000.0      1955.0   \n",
       "2                       Retail_Enclosed_mall    280025.0      1951.0   \n",
       "3                  Education_Other_classroom     55325.0      1980.0   \n",
       "4                  Warehouse_Nonrefrigerated     66000.0      1985.0   \n",
       "\n",
       "   energy_star_rating  ELEVATION  january_min_temp  january_avg_temp  ...  \\\n",
       "0                11.0        2.4                36              50.5  ...   \n",
       "1                45.0        1.8                36              50.5  ...   \n",
       "2                97.0        1.8                36              50.5  ...   \n",
       "3                46.0        1.8                36              50.5  ...   \n",
       "4               100.0        2.4                36              50.5  ...   \n",
       "\n",
       "   days_above_80F  days_above_90F  days_above_100F  days_above_110F  \\\n",
       "0              14               0                0                0   \n",
       "1              14               0                0                0   \n",
       "2              14               0                0                0   \n",
       "3              14               0                0                0   \n",
       "4              14               0                0                0   \n",
       "\n",
       "   direction_max_wind_speed  direction_peak_wind_speed  max_wind_speed  \\\n",
       "0                       1.0                        1.0             1.0   \n",
       "1                       1.0                        NaN             1.0   \n",
       "2                       1.0                        NaN             1.0   \n",
       "3                       1.0                        NaN             1.0   \n",
       "4                       1.0                        1.0             1.0   \n",
       "\n",
       "   days_with_fog    site_eui  id  \n",
       "0            NaN  248.682615   0  \n",
       "1           12.0   26.500150   1  \n",
       "2           12.0   24.693619   2  \n",
       "3           12.0   48.406926   3  \n",
       "4            NaN    3.899395   4  \n",
       "\n",
       "[5 rows x 64 columns]"
      ]
     },
     "execution_count": 171,
     "metadata": {},
     "output_type": "execute_result"
    }
   ],
   "source": [
    "#Let's look at the first rows of our train dataframe\n",
    "\n",
    "data.head()"
   ]
  },
  {
   "cell_type": "code",
   "execution_count": 172,
   "metadata": {
    "execution": {
     "iopub.execute_input": "2022-04-27T02:14:02.469161Z",
     "iopub.status.busy": "2022-04-27T02:14:02.468805Z",
     "iopub.status.idle": "2022-04-27T02:14:02.585803Z",
     "shell.execute_reply": "2022-04-27T02:14:02.584937Z",
     "shell.execute_reply.started": "2022-04-27T02:14:02.469120Z"
    }
   },
   "outputs": [
    {
     "name": "stdout",
     "output_type": "stream",
     "text": [
      "<class 'pandas.core.frame.DataFrame'>\n",
      "RangeIndex: 75757 entries, 0 to 75756\n",
      "Data columns (total 64 columns):\n",
      " #   Column                     Non-Null Count  Dtype  \n",
      "---  ------                     --------------  -----  \n",
      " 0   Year_Factor                75757 non-null  int64  \n",
      " 1   State_Factor               75757 non-null  object \n",
      " 2   building_class             75757 non-null  object \n",
      " 3   facility_type              75757 non-null  object \n",
      " 4   floor_area                 75757 non-null  float64\n",
      " 5   year_built                 73920 non-null  float64\n",
      " 6   energy_star_rating         49048 non-null  float64\n",
      " 7   ELEVATION                  75757 non-null  float64\n",
      " 8   january_min_temp           75757 non-null  int64  \n",
      " 9   january_avg_temp           75757 non-null  float64\n",
      " 10  january_max_temp           75757 non-null  int64  \n",
      " 11  february_min_temp          75757 non-null  int64  \n",
      " 12  february_avg_temp          75757 non-null  float64\n",
      " 13  february_max_temp          75757 non-null  int64  \n",
      " 14  march_min_temp             75757 non-null  int64  \n",
      " 15  march_avg_temp             75757 non-null  float64\n",
      " 16  march_max_temp             75757 non-null  int64  \n",
      " 17  april_min_temp             75757 non-null  int64  \n",
      " 18  april_avg_temp             75757 non-null  float64\n",
      " 19  april_max_temp             75757 non-null  int64  \n",
      " 20  may_min_temp               75757 non-null  int64  \n",
      " 21  may_avg_temp               75757 non-null  float64\n",
      " 22  may_max_temp               75757 non-null  int64  \n",
      " 23  june_min_temp              75757 non-null  int64  \n",
      " 24  june_avg_temp              75757 non-null  float64\n",
      " 25  june_max_temp              75757 non-null  int64  \n",
      " 26  july_min_temp              75757 non-null  int64  \n",
      " 27  july_avg_temp              75757 non-null  float64\n",
      " 28  july_max_temp              75757 non-null  int64  \n",
      " 29  august_min_temp            75757 non-null  int64  \n",
      " 30  august_avg_temp            75757 non-null  float64\n",
      " 31  august_max_temp            75757 non-null  int64  \n",
      " 32  september_min_temp         75757 non-null  int64  \n",
      " 33  september_avg_temp         75757 non-null  float64\n",
      " 34  september_max_temp         75757 non-null  int64  \n",
      " 35  october_min_temp           75757 non-null  int64  \n",
      " 36  october_avg_temp           75757 non-null  float64\n",
      " 37  october_max_temp           75757 non-null  int64  \n",
      " 38  november_min_temp          75757 non-null  int64  \n",
      " 39  november_avg_temp          75757 non-null  float64\n",
      " 40  november_max_temp          75757 non-null  int64  \n",
      " 41  december_min_temp          75757 non-null  int64  \n",
      " 42  december_avg_temp          75757 non-null  float64\n",
      " 43  december_max_temp          75757 non-null  int64  \n",
      " 44  cooling_degree_days        75757 non-null  int64  \n",
      " 45  heating_degree_days        75757 non-null  int64  \n",
      " 46  precipitation_inches       75757 non-null  float64\n",
      " 47  snowfall_inches            75757 non-null  float64\n",
      " 48  snowdepth_inches           75757 non-null  int64  \n",
      " 49  avg_temp                   75757 non-null  float64\n",
      " 50  days_below_30F             75757 non-null  int64  \n",
      " 51  days_below_20F             75757 non-null  int64  \n",
      " 52  days_below_10F             75757 non-null  int64  \n",
      " 53  days_below_0F              75757 non-null  int64  \n",
      " 54  days_above_80F             75757 non-null  int64  \n",
      " 55  days_above_90F             75757 non-null  int64  \n",
      " 56  days_above_100F            75757 non-null  int64  \n",
      " 57  days_above_110F            75757 non-null  int64  \n",
      " 58  direction_max_wind_speed   34675 non-null  float64\n",
      " 59  direction_peak_wind_speed  33946 non-null  float64\n",
      " 60  max_wind_speed             34675 non-null  float64\n",
      " 61  days_with_fog              29961 non-null  float64\n",
      " 62  site_eui                   75757 non-null  float64\n",
      " 63  id                         75757 non-null  int64  \n",
      "dtypes: float64(24), int64(37), object(3)\n",
      "memory usage: 37.0+ MB\n"
     ]
    }
   ],
   "source": [
    "#Let's take a look at our data features, its data types and an overview of the null values\n",
    "\n",
    "data.info()"
   ]
  },
  {
   "cell_type": "code",
   "execution_count": 173,
   "metadata": {
    "execution": {
     "iopub.execute_input": "2022-04-27T02:14:02.731068Z",
     "iopub.status.busy": "2022-04-27T02:14:02.730652Z",
     "iopub.status.idle": "2022-04-27T02:14:02.758062Z",
     "shell.execute_reply": "2022-04-27T02:14:02.756986Z",
     "shell.execute_reply.started": "2022-04-27T02:14:02.731014Z"
    }
   },
   "outputs": [
    {
     "name": "stdout",
     "output_type": "stream",
     "text": [
      "<class 'pandas.core.frame.DataFrame'>\n",
      "RangeIndex: 9705 entries, 0 to 9704\n",
      "Data columns (total 63 columns):\n",
      " #   Column                     Non-Null Count  Dtype  \n",
      "---  ------                     --------------  -----  \n",
      " 0   Year_Factor                9705 non-null   int64  \n",
      " 1   State_Factor               9705 non-null   object \n",
      " 2   building_class             9705 non-null   object \n",
      " 3   facility_type              9705 non-null   object \n",
      " 4   floor_area                 9705 non-null   float64\n",
      " 5   year_built                 9613 non-null   float64\n",
      " 6   energy_star_rating         7451 non-null   float64\n",
      " 7   ELEVATION                  9705 non-null   float64\n",
      " 8   january_min_temp           9705 non-null   int64  \n",
      " 9   january_avg_temp           9705 non-null   float64\n",
      " 10  january_max_temp           9705 non-null   int64  \n",
      " 11  february_min_temp          9705 non-null   int64  \n",
      " 12  february_avg_temp          9705 non-null   float64\n",
      " 13  february_max_temp          9705 non-null   int64  \n",
      " 14  march_min_temp             9705 non-null   int64  \n",
      " 15  march_avg_temp             9705 non-null   float64\n",
      " 16  march_max_temp             9705 non-null   int64  \n",
      " 17  april_min_temp             9705 non-null   int64  \n",
      " 18  april_avg_temp             9705 non-null   float64\n",
      " 19  april_max_temp             9705 non-null   int64  \n",
      " 20  may_min_temp               9705 non-null   int64  \n",
      " 21  may_avg_temp               9705 non-null   float64\n",
      " 22  may_max_temp               9705 non-null   int64  \n",
      " 23  june_min_temp              9705 non-null   int64  \n",
      " 24  june_avg_temp              9705 non-null   float64\n",
      " 25  june_max_temp              9705 non-null   int64  \n",
      " 26  july_min_temp              9705 non-null   int64  \n",
      " 27  july_avg_temp              9705 non-null   float64\n",
      " 28  july_max_temp              9705 non-null   int64  \n",
      " 29  august_min_temp            9705 non-null   int64  \n",
      " 30  august_avg_temp            9705 non-null   float64\n",
      " 31  august_max_temp            9705 non-null   int64  \n",
      " 32  september_min_temp         9705 non-null   int64  \n",
      " 33  september_avg_temp         9705 non-null   float64\n",
      " 34  september_max_temp         9705 non-null   int64  \n",
      " 35  october_min_temp           9705 non-null   int64  \n",
      " 36  october_avg_temp           9705 non-null   float64\n",
      " 37  october_max_temp           9705 non-null   int64  \n",
      " 38  november_min_temp          9705 non-null   int64  \n",
      " 39  november_avg_temp          9705 non-null   float64\n",
      " 40  november_max_temp          9705 non-null   int64  \n",
      " 41  december_min_temp          9705 non-null   int64  \n",
      " 42  december_avg_temp          9705 non-null   float64\n",
      " 43  december_max_temp          9705 non-null   int64  \n",
      " 44  cooling_degree_days        9705 non-null   int64  \n",
      " 45  heating_degree_days        9705 non-null   int64  \n",
      " 46  precipitation_inches       9705 non-null   float64\n",
      " 47  snowfall_inches            9705 non-null   float64\n",
      " 48  snowdepth_inches           9705 non-null   int64  \n",
      " 49  avg_temp                   9705 non-null   float64\n",
      " 50  days_below_30F             9705 non-null   int64  \n",
      " 51  days_below_20F             9705 non-null   int64  \n",
      " 52  days_below_10F             9705 non-null   int64  \n",
      " 53  days_below_0F              9705 non-null   int64  \n",
      " 54  days_above_80F             9705 non-null   int64  \n",
      " 55  days_above_90F             9705 non-null   int64  \n",
      " 56  days_above_100F            9705 non-null   int64  \n",
      " 57  days_above_110F            9705 non-null   int64  \n",
      " 58  direction_max_wind_speed   1130 non-null   float64\n",
      " 59  direction_peak_wind_speed  1130 non-null   float64\n",
      " 60  max_wind_speed             1130 non-null   float64\n",
      " 61  days_with_fog              588 non-null    float64\n",
      " 62  id                         9705 non-null   int64  \n",
      "dtypes: float64(23), int64(37), object(3)\n",
      "memory usage: 4.7+ MB\n"
     ]
    }
   ],
   "source": [
    "test_data.info()"
   ]
  },
  {
   "cell_type": "markdown",
   "metadata": {},
   "source": [
    "We can see that we have only 3 columns with object type: 'State_Factor', 'building_class' and 'facility_type'."
   ]
  },
  {
   "cell_type": "markdown",
   "metadata": {},
   "source": [
    "## Exploratory data analysis"
   ]
  },
  {
   "cell_type": "markdown",
   "metadata": {},
   "source": [
    "1. Look at the distribution of our target variable\n",
    "2. Look at correlations between variables we consider relevant and the target variable.\n",
    "3. Outliers analysis\n",
    "4. Dropping not useful data\n",
    "5. Encoding categorical values\n",
    "6. Null value treatment\n",
    "7. Normalizing values."
   ]
  },
  {
   "cell_type": "markdown",
   "metadata": {},
   "source": [
    "#### 1. Distribution Analysis"
   ]
  },
  {
   "cell_type": "code",
   "execution_count": 174,
   "metadata": {
    "execution": {
     "iopub.execute_input": "2022-04-27T02:14:02.760026Z",
     "iopub.status.busy": "2022-04-27T02:14:02.759653Z",
     "iopub.status.idle": "2022-04-27T02:14:03.127666Z",
     "shell.execute_reply": "2022-04-27T02:14:03.126878Z",
     "shell.execute_reply.started": "2022-04-27T02:14:02.759981Z"
    }
   },
   "outputs": [
    {
     "data": {
      "text/plain": [
       "<seaborn.axisgrid.FacetGrid at 0x24a1caba760>"
      ]
     },
     "execution_count": 174,
     "metadata": {},
     "output_type": "execute_result"
    },
    {
     "data": {
      "image/png": "[encoded data removed]",
      "text/plain": [
       "<Figure size 720x360 with 1 Axes>"
      ]
     },
     "metadata": {
      "needs_background": "light"
     },
     "output_type": "display_data"
    }
   ],
   "source": [
    "#Let's look at the distribution of our target variable.\n",
    "\n",
    "sns.displot(\n",
    "  data=data,\n",
    "  x=\"site_eui\",\n",
    "  kind=\"hist\",\n",
    "  aspect=2,\n",
    "  bins=30\n",
    ")"
   ]
  },
  {
   "cell_type": "markdown",
   "metadata": {},
   "source": [
    "We can see that we have a skewed data. Central tendency is where our general data lies and with machine learning algorithms we are trying to predict general behaviour, so knowing the correct measure of central tendency will help."
   ]
  },
  {
   "cell_type": "markdown",
   "metadata": {},
   "source": [
    "#### 2. Correlations between features and target variable"
   ]
  },
  {
   "cell_type": "code",
   "execution_count": 175,
   "metadata": {
    "execution": {
     "iopub.execute_input": "2022-04-27T02:14:03.129023Z",
     "iopub.status.busy": "2022-04-27T02:14:03.128768Z",
     "iopub.status.idle": "2022-04-27T02:14:03.140298Z",
     "shell.execute_reply": "2022-04-27T02:14:03.139422Z",
     "shell.execute_reply.started": "2022-04-27T02:14:03.128995Z"
    }
   },
   "outputs": [],
   "source": [
    "#Let's define a function to summarize some numeric variables and look for correlation between such column and the target.\n",
    "\n",
    "def plot_feature(df , col):\n",
    "    \n",
    "    plt.figure(figsize = (6,4))\n",
    "    \n",
    "    mean = df.groupby(col)['site_eui'].mean()\n",
    "    std = df.groupby(col)['site_eui'].std()\n",
    "    mean.plot()\n",
    "    plt.fill_between(range(len(std.index)), mean.values-std.values, mean.values + std.values, alpha = 0.1)\n",
    "    plt.xticks(rotation = 45)\n",
    "    plt.ylabel('Site EUI')    \n",
    "    plt.show()\n",
    "       "
   ]
  },
  {
   "cell_type": "code",
   "execution_count": 176,
   "metadata": {
    "execution": {
     "iopub.execute_input": "2022-04-27T02:14:06.271545Z",
     "iopub.status.busy": "2022-04-27T02:14:06.271280Z",
     "iopub.status.idle": "2022-04-27T02:14:06.616895Z",
     "shell.execute_reply": "2022-04-27T02:14:06.616275Z",
     "shell.execute_reply.started": "2022-04-27T02:14:06.271514Z"
    }
   },
   "outputs": [
    {
     "data": {
      "image/png": "[encoded data removed]",
      "text/plain": [
       "<Figure size 432x288 with 1 Axes>"
      ]
     },
     "metadata": {
      "needs_background": "light"
     },
     "output_type": "display_data"
    }
   ],
   "source": [
    "plot_feature(data , 'avg_temp')"
   ]
  },
  {
   "cell_type": "code",
   "execution_count": 177,
   "metadata": {
    "execution": {
     "iopub.execute_input": "2022-04-27T02:14:06.618482Z",
     "iopub.status.busy": "2022-04-27T02:14:06.618036Z",
     "iopub.status.idle": "2022-04-27T02:14:06.945462Z",
     "shell.execute_reply": "2022-04-27T02:14:06.944535Z",
     "shell.execute_reply.started": "2022-04-27T02:14:06.618432Z"
    }
   },
   "outputs": [
    {
     "data": {
      "image/png": "[encoded data removed]",
      "text/plain": [
       "<Figure size 432x288 with 1 Axes>"
      ]
     },
     "metadata": {
      "needs_background": "light"
     },
     "output_type": "display_data"
    }
   ],
   "source": [
    "plot_feature(data , 'cooling_degree_days')"
   ]
  },
  {
   "cell_type": "code",
   "execution_count": 178,
   "metadata": {
    "execution": {
     "iopub.execute_input": "2022-04-27T02:14:04.376421Z",
     "iopub.status.busy": "2022-04-27T02:14:04.376125Z",
     "iopub.status.idle": "2022-04-27T02:14:05.225582Z",
     "shell.execute_reply": "2022-04-27T02:14:05.224623Z",
     "shell.execute_reply.started": "2022-04-27T02:14:04.376389Z"
    }
   },
   "outputs": [
    {
     "data": {
      "image/png": "[encoded data removed]",
      "text/plain": [
       "<Figure size 432x288 with 1 Axes>"
      ]
     },
     "metadata": {
      "needs_background": "light"
     },
     "output_type": "display_data"
    }
   ],
   "source": [
    "plot_feature(data , 'floor_area')"
   ]
  },
  {
   "cell_type": "code",
   "execution_count": 179,
   "metadata": {
    "execution": {
     "iopub.execute_input": "2022-04-27T02:14:05.227450Z",
     "iopub.status.busy": "2022-04-27T02:14:05.227187Z",
     "iopub.status.idle": "2022-04-27T02:14:05.575168Z",
     "shell.execute_reply": "2022-04-27T02:14:05.574243Z",
     "shell.execute_reply.started": "2022-04-27T02:14:05.227420Z"
    }
   },
   "outputs": [
    {
     "data": {
      "image/png": "[encoded data removed]",
      "text/plain": [
       "<Figure size 432x288 with 1 Axes>"
      ]
     },
     "metadata": {
      "needs_background": "light"
     },
     "output_type": "display_data"
    }
   ],
   "source": [
    "plot_feature(data, 'year_built')"
   ]
  },
  {
   "cell_type": "code",
   "execution_count": 180,
   "metadata": {
    "execution": {
     "iopub.execute_input": "2022-04-27T02:14:05.576505Z",
     "iopub.status.busy": "2022-04-27T02:14:05.576262Z",
     "iopub.status.idle": "2022-04-27T02:14:05.918526Z",
     "shell.execute_reply": "2022-04-27T02:14:05.917780Z",
     "shell.execute_reply.started": "2022-04-27T02:14:05.576475Z"
    }
   },
   "outputs": [
    {
     "data": {
      "image/png": "[encoded data removed]",
      "text/plain": [
       "<Figure size 432x288 with 1 Axes>"
      ]
     },
     "metadata": {
      "needs_background": "light"
     },
     "output_type": "display_data"
    }
   ],
   "source": [
    "plot_feature(data , 'energy_star_rating')"
   ]
  },
  {
   "cell_type": "markdown",
   "metadata": {},
   "source": [
    "We can see clearly that there is a negative linear relashionship between energy_star_rating and site_eui. The higher the site_eui, the lower the energy_star_rating."
   ]
  },
  {
   "cell_type": "markdown",
   "metadata": {
    "execution": {
     "iopub.execute_input": "2022-02-18T00:09:38.781235Z",
     "iopub.status.busy": "2022-02-18T00:09:38.780784Z",
     "iopub.status.idle": "2022-02-18T00:09:38.805673Z",
     "shell.execute_reply": "2022-02-18T00:09:38.804685Z",
     "shell.execute_reply.started": "2022-02-18T00:09:38.781118Z"
    }
   },
   "source": [
    "#### 3. Outliers analysis"
   ]
  },
  {
   "cell_type": "markdown",
   "metadata": {},
   "source": [
    "*Dealing with outliers in Site_eui*"
   ]
  },
  {
   "cell_type": "code",
   "execution_count": 181,
   "metadata": {
    "execution": {
     "iopub.execute_input": "2022-04-27T02:14:08.250907Z",
     "iopub.status.busy": "2022-04-27T02:14:08.250522Z",
     "iopub.status.idle": "2022-04-27T02:14:08.445082Z",
     "shell.execute_reply": "2022-04-27T02:14:08.444350Z",
     "shell.execute_reply.started": "2022-04-27T02:14:08.250846Z"
    }
   },
   "outputs": [
    {
     "data": {
      "text/plain": [
       "Text(0, 0.5, 'Site Eui')"
      ]
     },
     "execution_count": 181,
     "metadata": {},
     "output_type": "execute_result"
    },
    {
     "data": {
      "image/png": "[encoded data removed]",
      "text/plain": [
       "<Figure size 432x432 with 1 Axes>"
      ]
     },
     "metadata": {
      "needs_background": "light"
     },
     "output_type": "display_data"
    }
   ],
   "source": [
    "#First, let's evaluate our target variable.\n",
    "\n",
    "plt.figure(figsize=(6,6))\n",
    "sns.boxplot(data=data['site_eui'])\n",
    "plt.title('Looking for outliers in site_eui feature')\n",
    "plt.ylabel('Site Eui')"
   ]
  },
  {
   "cell_type": "markdown",
   "metadata": {},
   "source": [
    "There are several outliers in the 'site_eui' variable so we need to do some research on it, as any changes can be determinant to our model. \n",
    "After looking at the Energy Star website we notice that our maximum value of 900 is inside the ranges of certain facility types. For example in hotels, the energy use intensity ranges from less than 100 to more than 800 kbtu/ft2 across all hotels. So our outliers here are a natural part of the population we are studying. As they do not seem erronous measurements, then we should not drop them or change them. We will keep the target data as it is."
   ]
  },
  {
   "cell_type": "markdown",
   "metadata": {},
   "source": [
    "*Dealing with outliers in year_built*"
   ]
  },
  {
   "cell_type": "code",
   "execution_count": 182,
   "metadata": {
    "execution": {
     "iopub.execute_input": "2022-04-27T02:14:08.446512Z",
     "iopub.status.busy": "2022-04-27T02:14:08.446309Z",
     "iopub.status.idle": "2022-04-27T02:14:08.457044Z",
     "shell.execute_reply": "2022-04-27T02:14:08.456436Z",
     "shell.execute_reply.started": "2022-04-27T02:14:08.446487Z"
    }
   },
   "outputs": [
    {
     "name": "stdout",
     "output_type": "stream",
     "text": [
      "count    73920.000000\n",
      "mean      1952.306764\n",
      "std         37.053619\n",
      "min          0.000000\n",
      "25%       1927.000000\n",
      "50%       1951.000000\n",
      "75%       1977.000000\n",
      "max       2015.000000\n",
      "Name: year_built, dtype: float64\n"
     ]
    }
   ],
   "source": [
    "stat_yearbuilt= data['year_built'].describe()\n",
    "print(stat_yearbuilt)"
   ]
  },
  {
   "cell_type": "code",
   "execution_count": 183,
   "metadata": {
    "execution": {
     "iopub.execute_input": "2022-04-27T02:14:08.748497Z",
     "iopub.status.busy": "2022-04-27T02:14:08.747687Z",
     "iopub.status.idle": "2022-04-27T02:14:08.768343Z",
     "shell.execute_reply": "2022-04-27T02:14:08.767534Z",
     "shell.execute_reply.started": "2022-04-27T02:14:08.748461Z"
    }
   },
   "outputs": [],
   "source": [
    "data = data.drop(data[data.year_built == 0].index)"
   ]
  },
  {
   "cell_type": "markdown",
   "metadata": {},
   "source": [
    "#### 4. Dropping data that is not useful"
   ]
  },
  {
   "cell_type": "markdown",
   "metadata": {},
   "source": [
    "There are 4 columns with > 50% of data missing, so we will proceed to drop them."
   ]
  },
  {
   "cell_type": "code",
   "execution_count": 184,
   "metadata": {
    "execution": {
     "iopub.execute_input": "2022-04-27T02:14:09.122263Z",
     "iopub.status.busy": "2022-04-27T02:14:09.121943Z",
     "iopub.status.idle": "2022-04-27T02:14:09.148573Z",
     "shell.execute_reply": "2022-04-27T02:14:09.147733Z",
     "shell.execute_reply.started": "2022-04-27T02:14:09.122235Z"
    }
   },
   "outputs": [],
   "source": [
    "data = data.drop(['direction_max_wind_speed','direction_peak_wind_speed', 'max_wind_speed', 'days_with_fog'], axis=1)\n",
    "test_data = test_data.drop(['direction_max_wind_speed','direction_peak_wind_speed', 'max_wind_speed', 'days_with_fog'], axis=1)"
   ]
  },
  {
   "cell_type": "markdown",
   "metadata": {},
   "source": [
    "There are two more columns with null values, which are 'year_built' and 'energy star rating'. \n",
    "\n",
    "**Energy star rating:** As saw before in the distribution analysis, energy_star_rating is a very important feature to predict site_eui because it has a negative linear relation with 'site_eui' target variable, so we need to find a way to impute it correctly because it has a lot of null values.\n",
    "\n",
    "**Year built:** As our missing values in year_built represent only a 2.4% we will drop those rows will null year_built feature.\n",
    "\n"
   ]
  },
  {
   "cell_type": "code",
   "execution_count": 185,
   "metadata": {
    "execution": {
     "iopub.execute_input": "2022-04-27T02:14:09.150284Z",
     "iopub.status.busy": "2022-04-27T02:14:09.149562Z",
     "iopub.status.idle": "2022-04-27T02:14:09.179526Z",
     "shell.execute_reply": "2022-04-27T02:14:09.178930Z",
     "shell.execute_reply.started": "2022-04-27T02:14:09.150232Z"
    }
   },
   "outputs": [],
   "source": [
    "#Dropping null values in year_built\n",
    "\n",
    "data = data.dropna(subset = ['year_built'],axis=0)\n",
    "test_data = test_data.dropna(subset = ['year_built'],axis=0)"
   ]
  },
  {
   "cell_type": "markdown",
   "metadata": {},
   "source": [
    "In the case of Energy_star_rating we have a skewed data we can not consider the mean for imputation. Median would be a right central tendency measure in this case. But what about considering KNN imputation or iterative imputation? We will evaluate this and make the imputation later. "
   ]
  },
  {
   "cell_type": "markdown",
   "metadata": {
    "execution": {
     "iopub.status.busy": "2022-02-20T13:22:05.215589Z",
     "iopub.status.idle": "2022-02-20T13:22:05.216077Z",
     "shell.execute_reply": "2022-02-20T13:22:05.215841Z",
     "shell.execute_reply.started": "2022-02-20T13:22:05.215817Z"
    }
   },
   "source": [
    "#### 5. Encoding categorical values"
   ]
  },
  {
   "cell_type": "markdown",
   "metadata": {},
   "source": [
    "Encoding building class, facility_type and state factor"
   ]
  },
  {
   "cell_type": "code",
   "execution_count": 186,
   "metadata": {},
   "outputs": [],
   "source": [
    "# Import label encoder\n",
    "from sklearn import preprocessing\n",
    " \n",
    "# label_encoder object knows how to understand word labels.\n",
    "label_encoder = preprocessing.LabelEncoder()\n",
    " \n",
    "# Encode labels in the three categorical columns.\n",
    "data['building_class']= label_encoder.fit_transform(data['building_class'])\n",
    "data['facility_type']= label_encoder.fit_transform(data['facility_type'])\n",
    "data['State_Factor']= label_encoder.fit_transform(data['State_Factor'])\n",
    "\n",
    "#We should encode the same columns for our test data\n",
    "test_data['building_class']= label_encoder.fit_transform(test_data['building_class'])\n",
    "test_data['facility_type']= label_encoder.fit_transform(test_data['facility_type'])\n",
    "test_data['State_Factor']= label_encoder.fit_transform(test_data['State_Factor'])"
   ]
  },
  {
   "cell_type": "markdown",
   "metadata": {},
   "source": [
    "#### 6. Null value treatment"
   ]
  },
  {
   "cell_type": "markdown",
   "metadata": {},
   "source": [
    "How will we treat our null values in Energy_star_rating ?"
   ]
  },
  {
   "cell_type": "code",
   "execution_count": 187,
   "metadata": {
    "execution": {
     "iopub.execute_input": "2022-04-27T02:14:09.563051Z",
     "iopub.status.busy": "2022-04-27T02:14:09.562796Z",
     "iopub.status.idle": "2022-04-27T02:14:09.576645Z",
     "shell.execute_reply": "2022-04-27T02:14:09.575696Z",
     "shell.execute_reply.started": "2022-04-27T02:14:09.563023Z"
    }
   },
   "outputs": [],
   "source": [
    "#It's time to separate our features from our target variable in our train set.\n",
    "\n",
    "target = data['site_eui']\n",
    "\n",
    "features = data.drop(['site_eui'], axis = 1)"
   ]
  },
  {
   "cell_type": "code",
   "execution_count": 188,
   "metadata": {
    "execution": {
     "iopub.execute_input": "2022-04-27T02:14:09.578767Z",
     "iopub.status.busy": "2022-04-27T02:14:09.578307Z",
     "iopub.status.idle": "2022-04-27T02:14:53.740435Z",
     "shell.execute_reply": "2022-04-27T02:14:53.739496Z",
     "shell.execute_reply.started": "2022-04-27T02:14:09.578721Z"
    }
   },
   "outputs": [],
   "source": [
    "from sklearn.experimental import enable_iterative_imputer\n",
    "from sklearn.impute import IterativeImputer\n",
    "\n",
    "imputer = IterativeImputer(imputation_order='ascending', random_state=42)\n",
    "\n",
    "imputed_features = imputer.fit_transform(features)\n",
    "imputed_test_features = imputer.fit_transform(test_data)\n",
    "\n",
    "df_imputed = pd.DataFrame(imputed_features, columns=features.columns)\n",
    "df_test_imputed = pd.DataFrame(imputed_test_features, columns=test_data.columns)"
   ]
  },
  {
   "cell_type": "markdown",
   "metadata": {},
   "source": [
    "#### 7. Data Normalization"
   ]
  },
  {
   "cell_type": "code",
   "execution_count": 189,
   "metadata": {
    "execution": {
     "iopub.execute_input": "2022-04-27T02:14:54.529689Z",
     "iopub.status.busy": "2022-04-27T02:14:54.529459Z",
     "iopub.status.idle": "2022-04-27T02:14:54.612281Z",
     "shell.execute_reply": "2022-04-27T02:14:54.611264Z",
     "shell.execute_reply.started": "2022-04-27T02:14:54.529660Z"
    }
   },
   "outputs": [],
   "source": [
    "from sklearn.preprocessing import MinMaxScaler\n",
    "\n",
    "scaler = MinMaxScaler()\n",
    "\n",
    "scaler.fit(df_imputed)\n",
    "scaled = scaler.fit_transform(df_imputed)\n",
    "df_scaled = pd.DataFrame(scaled,columns = df_imputed.columns)\n",
    "\n",
    "#We do the same for out test data\n",
    "\n",
    "scaler.fit(df_test_imputed)\n",
    "test_scaled = scaler.fit_transform(df_test_imputed)\n",
    "df_test_scaled = pd.DataFrame(test_scaled,columns = df_test_imputed.columns)"
   ]
  },
  {
   "cell_type": "code",
   "execution_count": 190,
   "metadata": {},
   "outputs": [],
   "source": [
    "df_scaled = df_scaled.drop('id',axis = 1).copy()"
   ]
  },
  {
   "cell_type": "code",
   "execution_count": null,
   "metadata": {},
   "outputs": [],
   "source": []
  },
  {
   "cell_type": "markdown",
   "metadata": {},
   "source": [
    "## Modeling"
   ]
  },
  {
   "cell_type": "markdown",
   "metadata": {},
   "source": [
    "How will I know if my model is having a good result? I need to divide my training data into train and validation set, so that my model is tested on the validation set."
   ]
  },
  {
   "cell_type": "code",
   "execution_count": 191,
   "metadata": {
    "execution": {
     "iopub.execute_input": "2022-04-27T02:14:54.613948Z",
     "iopub.status.busy": "2022-04-27T02:14:54.613687Z",
     "iopub.status.idle": "2022-04-27T02:14:54.667643Z",
     "shell.execute_reply": "2022-04-27T02:14:54.666789Z",
     "shell.execute_reply.started": "2022-04-27T02:14:54.613916Z"
    }
   },
   "outputs": [],
   "source": [
    "#Let's split our clean train data into training and validation sets\n",
    "\n",
    "X_train, X_test, y_train, y_test = train_test_split(df_scaled, target, test_size=0.2, random_state=42)"
   ]
  },
  {
   "cell_type": "markdown",
   "metadata": {},
   "source": [
    "**1st approach: Simple Linear regression between Energy Star Rating and Site_Eui**"
   ]
  },
  {
   "cell_type": "code",
   "execution_count": 192,
   "metadata": {},
   "outputs": [],
   "source": [
    "X_train_lr = X_train[['energy_star_rating']]\n",
    "X_test_lr = X_test[['energy_star_rating']]"
   ]
  },
  {
   "cell_type": "code",
   "execution_count": 193,
   "metadata": {},
   "outputs": [
    {
     "data": {
      "text/plain": [
       "LinearRegression()"
      ]
     },
     "execution_count": 193,
     "metadata": {},
     "output_type": "execute_result"
    }
   ],
   "source": [
    "#Fitting simple linear regression to the training set\n",
    "lr = LinearRegression()\n",
    "lr.fit(X_train_lr, y_train)"
   ]
  },
  {
   "cell_type": "code",
   "execution_count": 194,
   "metadata": {},
   "outputs": [
    {
     "name": "stdout",
     "output_type": "stream",
     "text": [
      "RMSE: 52.39242635470163\n"
     ]
    }
   ],
   "source": [
    "#to predict the test result\n",
    "y_pred_lr = lr.predict(X_test_lr)\n",
    "\n",
    "#to calculate the score\n",
    "LinReg = round(lr.score(X_test_lr, y_test), 2)\n",
    "  \n",
    "#to calculate the rmse\n",
    "rmse_lr = sqrt(mean_squared_error(y_test,y_pred_lr))\n",
    "print('RMSE:', rmse_lr)"
   ]
  },
  {
   "cell_type": "markdown",
   "metadata": {},
   "source": [
    "**2nd approach: Random Forest Regressor**"
   ]
  },
  {
   "cell_type": "code",
   "execution_count": 195,
   "metadata": {
    "execution": {
     "iopub.execute_input": "2022-04-27T02:14:54.669816Z",
     "iopub.status.busy": "2022-04-27T02:14:54.669021Z",
     "iopub.status.idle": "2022-04-27T02:16:52.229058Z",
     "shell.execute_reply": "2022-04-27T02:16:52.228141Z",
     "shell.execute_reply.started": "2022-04-27T02:14:54.669777Z"
    }
   },
   "outputs": [
    {
     "data": {
      "text/plain": [
       "RandomForestRegressor()"
      ]
     },
     "execution_count": 195,
     "metadata": {},
     "output_type": "execute_result"
    }
   ],
   "source": [
    "from sklearn.ensemble import RandomForestRegressor\n",
    "\n",
    "rf = RandomForestRegressor()\n",
    "rf.fit(X_train, y_train)"
   ]
  },
  {
   "cell_type": "code",
   "execution_count": 196,
   "metadata": {
    "execution": {
     "iopub.execute_input": "2022-04-27T02:16:52.231074Z",
     "iopub.status.busy": "2022-04-27T02:16:52.230524Z",
     "iopub.status.idle": "2022-04-27T02:16:53.065291Z",
     "shell.execute_reply": "2022-04-27T02:16:53.064459Z",
     "shell.execute_reply.started": "2022-04-27T02:16:52.231038Z"
    }
   },
   "outputs": [
    {
     "name": "stdout",
     "output_type": "stream",
     "text": [
      "RMSE: 39.19814027549087\n"
     ]
    }
   ],
   "source": [
    "#to predict the test result\n",
    "y_pred_rf = rf.predict(X_test)\n",
    "  \n",
    "#to calculate the rmse\n",
    "rmse = sqrt(mean_squared_error(y_test,y_pred_rf))\n",
    "print('RMSE:', rmse)"
   ]
  },
  {
   "cell_type": "markdown",
   "metadata": {},
   "source": [
    "**3rd approach: Train the model with the best random forest features**"
   ]
  },
  {
   "cell_type": "code",
   "execution_count": 197,
   "metadata": {
    "execution": {
     "iopub.execute_input": "2022-04-27T02:16:53.066739Z",
     "iopub.status.busy": "2022-04-27T02:16:53.066503Z",
     "iopub.status.idle": "2022-04-27T02:18:50.164554Z",
     "shell.execute_reply": "2022-04-27T02:18:50.163566Z",
     "shell.execute_reply.started": "2022-04-27T02:16:53.066709Z"
    }
   },
   "outputs": [
    {
     "data": {
      "text/plain": [
       "SelectFromModel(estimator=RandomForestRegressor())"
      ]
     },
     "execution_count": 197,
     "metadata": {},
     "output_type": "execute_result"
    }
   ],
   "source": [
    "from sklearn.feature_selection import SelectFromModel\n",
    "\n",
    "sel = SelectFromModel(RandomForestRegressor())\n",
    "sel.fit(X_train, y_train)"
   ]
  },
  {
   "cell_type": "code",
   "execution_count": 198,
   "metadata": {
    "execution": {
     "iopub.execute_input": "2022-04-27T02:18:50.166650Z",
     "iopub.status.busy": "2022-04-27T02:18:50.166200Z",
     "iopub.status.idle": "2022-04-27T02:18:50.278787Z",
     "shell.execute_reply": "2022-04-27T02:18:50.277897Z",
     "shell.execute_reply.started": "2022-04-27T02:18:50.166615Z"
    }
   },
   "outputs": [
    {
     "data": {
      "text/plain": [
       "6"
      ]
     },
     "execution_count": 198,
     "metadata": {},
     "output_type": "execute_result"
    }
   ],
   "source": [
    "selected_feat= df_scaled.columns[(sel.get_support())]\n",
    "len(selected_feat)"
   ]
  },
  {
   "cell_type": "code",
   "execution_count": 199,
   "metadata": {
    "execution": {
     "iopub.execute_input": "2022-04-27T02:18:50.280523Z",
     "iopub.status.busy": "2022-04-27T02:18:50.280197Z",
     "iopub.status.idle": "2022-04-27T02:18:50.286587Z",
     "shell.execute_reply": "2022-04-27T02:18:50.285600Z",
     "shell.execute_reply.started": "2022-04-27T02:18:50.280480Z"
    }
   },
   "outputs": [
    {
     "name": "stdout",
     "output_type": "stream",
     "text": [
      "Index(['building_class', 'facility_type', 'floor_area', 'year_built',\n",
      "       'energy_star_rating', 'ELEVATION'],\n",
      "      dtype='object')\n"
     ]
    }
   ],
   "source": [
    "print(selected_feat)"
   ]
  },
  {
   "cell_type": "code",
   "execution_count": 200,
   "metadata": {
    "execution": {
     "iopub.execute_input": "2022-04-27T02:18:50.288459Z",
     "iopub.status.busy": "2022-04-27T02:18:50.287939Z",
     "iopub.status.idle": "2022-04-27T02:18:50.563739Z",
     "shell.execute_reply": "2022-04-27T02:18:50.562931Z",
     "shell.execute_reply.started": "2022-04-27T02:18:50.288412Z"
    }
   },
   "outputs": [
    {
     "data": {
      "image/png": "[encoded data removed]",
      "text/plain": [
       "<Figure size 432x288 with 1 Axes>"
      ]
     },
     "metadata": {
      "needs_background": "light"
     },
     "output_type": "display_data"
    }
   ],
   "source": [
    "feat_importances = pd.Series(rf.feature_importances_, index=df_scaled.columns)\n",
    "feat_importances.nlargest(10).plot(kind='barh')\n",
    "plt.show()"
   ]
  },
  {
   "cell_type": "code",
   "execution_count": 201,
   "metadata": {
    "execution": {
     "iopub.execute_input": "2022-04-27T02:18:50.565927Z",
     "iopub.status.busy": "2022-04-27T02:18:50.565045Z",
     "iopub.status.idle": "2022-04-27T02:18:50.788659Z",
     "shell.execute_reply": "2022-04-27T02:18:50.788002Z",
     "shell.execute_reply.started": "2022-04-27T02:18:50.565881Z"
    }
   },
   "outputs": [],
   "source": [
    "#Create A Data Subset With Only The Most Important Features\n",
    "\n",
    "X_train_important = sel.transform(X_train)\n",
    "X_test_important = sel.transform(X_test)"
   ]
  },
  {
   "cell_type": "code",
   "execution_count": 202,
   "metadata": {
    "execution": {
     "iopub.execute_input": "2022-04-27T03:18:43.097871Z",
     "iopub.status.busy": "2022-04-27T03:18:43.097561Z",
     "iopub.status.idle": "2022-04-27T03:19:13.046183Z",
     "shell.execute_reply": "2022-04-27T03:19:13.045169Z",
     "shell.execute_reply.started": "2022-04-27T03:18:43.097829Z"
    }
   },
   "outputs": [
    {
     "data": {
      "text/plain": [
       "RandomForestRegressor()"
      ]
     },
     "execution_count": 202,
     "metadata": {},
     "output_type": "execute_result"
    }
   ],
   "source": [
    "#Train A New Random Forest Regressor Using Only Most Important Features\n",
    "\n",
    "rf1 = RandomForestRegressor()\n",
    "rf1.fit(X_train_important, y_train)"
   ]
  },
  {
   "cell_type": "code",
   "execution_count": 203,
   "metadata": {
    "execution": {
     "iopub.execute_input": "2022-04-27T03:19:13.806909Z",
     "iopub.status.busy": "2022-04-27T03:19:13.806301Z",
     "iopub.status.idle": "2022-04-27T03:19:14.574207Z",
     "shell.execute_reply": "2022-04-27T03:19:14.573231Z",
     "shell.execute_reply.started": "2022-04-27T03:19:13.806851Z"
    }
   },
   "outputs": [
    {
     "name": "stdout",
     "output_type": "stream",
     "text": [
      "RMSE: 36.79594186060283\n"
     ]
    }
   ],
   "source": [
    "# Apply the new regressor to the validation data\n",
    "y_pred_important = rf1.predict(X_test_important)\n",
    "\n",
    "# View The root mean squareed error of our limited model\n",
    "rmse_important = sqrt(mean_squared_error(y_test,y_pred_important))\n",
    "print('RMSE:', rmse_important)"
   ]
  },
  {
   "cell_type": "markdown",
   "metadata": {},
   "source": [
    "## Make Predictions"
   ]
  },
  {
   "cell_type": "markdown",
   "metadata": {},
   "source": [
    "First, we need to convert our test data into the same format of our final data taht was used by the model. \n",
    "To do so, we would need to filter only the 6 most important features, as we did with the training data."
   ]
  },
  {
   "cell_type": "code",
   "execution_count": 204,
   "metadata": {},
   "outputs": [],
   "source": [
    "final_test_data = df_test_scaled[['building_class', 'facility_type', 'floor_area', 'year_built',\n",
    "       'energy_star_rating', 'ELEVATION']]"
   ]
  },
  {
   "cell_type": "code",
   "execution_count": 205,
   "metadata": {
    "execution": {
     "iopub.status.busy": "2022-04-27T02:23:06.827288Z",
     "iopub.status.idle": "2022-04-27T02:23:06.827723Z",
     "shell.execute_reply": "2022-04-27T02:23:06.827515Z",
     "shell.execute_reply.started": "2022-04-27T02:23:06.827493Z"
    }
   },
   "outputs": [
    {
     "name": "stderr",
     "output_type": "stream",
     "text": [
      "C:\\Users\\danie\\anaconda3\\lib\\site-packages\\sklearn\\base.py:443: UserWarning: X has feature names, but RandomForestRegressor was fitted without feature names\n",
      "  warnings.warn(\n"
     ]
    }
   ],
   "source": [
    "#create predictions based on test data\n",
    "\n",
    "predictions = rf1.predict(final_test_data)  "
   ]
  },
  {
   "cell_type": "code",
   "execution_count": 206,
   "metadata": {
    "execution": {
     "iopub.status.busy": "2022-04-27T02:23:06.829337Z",
     "iopub.status.idle": "2022-04-27T02:23:06.829774Z",
     "shell.execute_reply": "2022-04-27T02:23:06.829566Z",
     "shell.execute_reply.started": "2022-04-27T02:23:06.829543Z"
    }
   },
   "outputs": [
    {
     "name": "stdout",
     "output_type": "stream",
     "text": [
      "9613\n"
     ]
    }
   ],
   "source": [
    "print(len(predictions))"
   ]
  },
  {
   "cell_type": "code",
   "execution_count": 207,
   "metadata": {
    "execution": {
     "iopub.status.busy": "2022-04-27T02:23:06.831401Z",
     "iopub.status.idle": "2022-04-27T02:23:06.832347Z",
     "shell.execute_reply": "2022-04-27T02:23:06.832128Z",
     "shell.execute_reply.started": "2022-04-27T02:23:06.832100Z"
    }
   },
   "outputs": [],
   "source": [
    "ids = df_test_imputed[['id']]\n",
    "predictions_df  = pd.DataFrame(predictions)\n",
    "ids = ids.astype('int64')"
   ]
  },
  {
   "cell_type": "code",
   "execution_count": 208,
   "metadata": {},
   "outputs": [],
   "source": [
    "submission_df = pd.concat([ids,predictions_df], axis= 1)"
   ]
  },
  {
   "cell_type": "code",
   "execution_count": 209,
   "metadata": {},
   "outputs": [],
   "source": [
    "submission_df = submission_df.rename(columns={'0' : 'site_eui'})"
   ]
  },
  {
   "cell_type": "code",
   "execution_count": 210,
   "metadata": {
    "execution": {
     "iopub.status.busy": "2022-04-27T02:23:06.835338Z",
     "iopub.status.idle": "2022-04-27T02:23:06.835988Z",
     "shell.execute_reply": "2022-04-27T02:23:06.835758Z",
     "shell.execute_reply.started": "2022-04-27T02:23:06.835734Z"
    }
   },
   "outputs": [],
   "source": [
    "submission_df.to_csv('submission.csv', index=False)"
   ]
  },
  {
   "cell_type": "code",
   "execution_count": 211,
   "metadata": {
    "execution": {
     "iopub.status.busy": "2022-04-27T02:23:06.837350Z",
     "iopub.status.idle": "2022-04-27T02:23:06.838240Z",
     "shell.execute_reply": "2022-04-27T02:23:06.837988Z",
     "shell.execute_reply.started": "2022-04-27T02:23:06.837958Z"
    }
   },
   "outputs": [],
   "source": [
    "#Save the model \n",
    "\n",
    "import pickle\n",
    "\n",
    "filename = \"model.pkl\"\n",
    "\n",
    "pickle.dump(rf1, open(filename, 'wb'))"
   ]
  },
  {
   "cell_type": "markdown",
   "metadata": {
    "execution": {
     "iopub.execute_input": "2022-02-20T20:15:23.231209Z",
     "iopub.status.busy": "2022-02-20T20:15:23.230984Z",
     "iopub.status.idle": "2022-02-20T20:15:23.242458Z",
     "shell.execute_reply": "2022-02-20T20:15:23.241338Z",
     "shell.execute_reply.started": "2022-02-20T20:15:23.231181Z"
    }
   },
   "source": [
    "\n"
   ]
  }
 ],
 "metadata": {
  "kernelspec": {
   "display_name": "Python 3 (ipykernel)",
   "language": "python",
   "name": "python3"
  },
  "language_info": {
   "codemirror_mode": {
    "name": "ipython",
    "version": 3
   },
   "file_extension": ".py",
   "mimetype": "text/x-python",
   "name": "python",
   "nbconvert_exporter": "python",
   "pygments_lexer": "ipython3",
   "version": "3.9.7"
  }
 },
 "nbformat": 4,
 "nbformat_minor": 4
}
